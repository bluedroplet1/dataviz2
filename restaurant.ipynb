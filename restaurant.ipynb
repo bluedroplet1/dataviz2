{
 "cells": [
  {
   "cell_type": "markdown",
   "id": "57f9d614-010a-4a09-adbe-fedc93dc841c",
   "metadata": {},
   "source": [
    "This restaurant simulation is borrowing heavily from BANK_RENEGE in the simpy documentation examples. [Link](https://simpy.readthedocs.io/en/latest/examples/bank_renege.html)"
   ]
  },
  {
   "cell_type": "code",
   "execution_count": 12,
   "id": "39c2385d-593a-4677-b59a-5d29fa1672ad",
   "metadata": {
    "tags": []
   },
   "outputs": [
    {
     "name": "stdout",
     "output_type": "stream",
     "text": [
      "Here's customer 1 waiting\n",
      "Customer 1 gets seated at 5\n",
      "and now customer 1 will pay and leave at 35\n",
      "Here's customer 1 waiting\n",
      "Customer 1 gets seated at 40\n",
      "and now customer 1 will pay and leave at 70\n",
      "Here's customer 1 waiting\n",
      "Customer 1 gets seated at 75\n"
     ]
    }
   ],
   "source": [
    "import simpy\n",
    "env = simpy.Environment()\n",
    "#a restaurant is a resource with some capacity  \n",
    "#for now, it's a rather small restaurant\n",
    "restaurant = simpy.Resource(env, capacity = 4)\n",
    "\n",
    "# A customer shows up at a restaurant and waits to be seated, is served, and leaves\n",
    "def customer(env, name):\n",
    "    while True: \n",
    "        enter = env.now\n",
    "        wait_time = 5\n",
    "        print(\"Here's customer %s waiting\" % name) \n",
    "        yield env.timeout(wait_time)\n",
    "\n",
    "        print('Customer %s gets seated at %d' % (name, env.now))\n",
    "        eat_time = 30\n",
    "        yield env.timeout(eat_time)\n",
    "        print (\"and now customer %s will pay and leave at %d\" % (name, env.now))\n",
    "        \n",
    "# but now we need to instantiate some customers \n",
    "env.process(customer(env, 1))\n",
    "env.run(until=100)\n"
   ]
  },
  {
   "cell_type": "code",
   "execution_count": null,
   "id": "86d47873-b37a-4c21-b45a-7329782b7354",
   "metadata": {},
   "outputs": [],
   "source": [
    "# now there will be more customers "
   ]
  },
  {
   "cell_type": "code",
   "execution_count": 13,
   "id": "7268dfa2-1d29-4084-b97e-defd0c4af8fd",
   "metadata": {
    "tags": []
   },
   "outputs": [
    {
     "name": "stdout",
     "output_type": "stream",
     "text": [
      "Here's customer 0 waiting\n",
      "Here's customer 1 waiting\n",
      "Here's customer 2 waiting\n",
      "Here's customer 3 waiting\n",
      "Customer 0 gets seated at 5\n",
      "Customer 1 gets seated at 5\n",
      "Customer 2 gets seated at 5\n",
      "Customer 3 gets seated at 5\n",
      "and now customer 0 will pay and leave at 35\n",
      "Here's customer 0 waiting\n",
      "and now customer 1 will pay and leave at 35\n",
      "Here's customer 1 waiting\n",
      "and now customer 2 will pay and leave at 35\n",
      "Here's customer 2 waiting\n",
      "and now customer 3 will pay and leave at 35\n",
      "Here's customer 3 waiting\n",
      "Customer 0 gets seated at 40\n",
      "Customer 1 gets seated at 40\n",
      "Customer 2 gets seated at 40\n",
      "Customer 3 gets seated at 40\n",
      "and now customer 0 will pay and leave at 70\n",
      "Here's customer 0 waiting\n",
      "and now customer 1 will pay and leave at 70\n",
      "Here's customer 1 waiting\n",
      "and now customer 2 will pay and leave at 70\n",
      "Here's customer 2 waiting\n",
      "and now customer 3 will pay and leave at 70\n",
      "Here's customer 3 waiting\n",
      "Customer 0 gets seated at 75\n",
      "Customer 1 gets seated at 75\n",
      "Customer 2 gets seated at 75\n",
      "Customer 3 gets seated at 75\n"
     ]
    }
   ],
   "source": [
    "env = simpy.Environment()\n",
    "for i in range(4): \n",
    "    env.process(customer(env, i))\n",
    "   \n",
    "env.run(until=100) "
   ]
  },
  {
   "cell_type": "markdown",
   "id": "e8ec0843-e4b7-475f-8307-f1866d208788",
   "metadata": {},
   "source": [
    "Not bad, but I wanted a gap between customers, which means I need to model arrival of customers.  Borrowing the \"source\" pattern in BANK_RENEGE example.  "
   ]
  },
  {
   "cell_type": "code",
   "execution_count": 14,
   "id": "51871ef8-f014-400d-a523-1a9e87f4608d",
   "metadata": {
    "tags": []
   },
   "outputs": [
    {
     "name": "stdout",
     "output_type": "stream",
     "text": [
      "Here's customer Customer00 waiting at 0\n",
      "Customer Customer00 gets seated at 0\n",
      "Here's customer Customer01 waiting at 10\n",
      "Customer Customer01 gets seated at 10\n",
      "Here's customer Customer02 waiting at 20\n",
      "Customer Customer02 gets seated at 20\n",
      "Here's customer Customer03 waiting at 30\n",
      "Customer Customer03 gets seated at 30\n",
      "Here's customer Customer04 waiting at 40\n",
      "Here's customer Customer05 waiting at 50\n",
      "and now customer Customer00 will pay and leave at 60\n",
      "Here's customer Customer06 waiting at 60\n",
      "Customer Customer04 gets seated at 60\n",
      "and now customer Customer01 will pay and leave at 70\n",
      "Here's customer Customer07 waiting at 70\n",
      "Customer Customer05 gets seated at 70\n",
      "and now customer Customer02 will pay and leave at 80\n",
      "Here's customer Customer08 waiting at 80\n",
      "Customer Customer06 gets seated at 80\n",
      "and now customer Customer03 will pay and leave at 90\n",
      "Here's customer Customer09 waiting at 90\n",
      "Customer Customer07 gets seated at 90\n",
      "and now customer Customer04 will pay and leave at 120\n",
      "Customer Customer08 gets seated at 120\n",
      "and now customer Customer05 will pay and leave at 130\n",
      "Customer Customer09 gets seated at 130\n",
      "and now customer Customer06 will pay and leave at 140\n",
      "and now customer Customer07 will pay and leave at 150\n",
      "and now customer Customer08 will pay and leave at 180\n",
      "and now customer Customer09 will pay and leave at 190\n"
     ]
    }
   ],
   "source": [
    "# RANDOM_SEED = 42 leaving out randomness for now\n",
    "NEW_CUSTOMERS = 10  # Total number of customers\n",
    "INTERVAL_CUSTOMERS = 10.0  # Generate new customers roughly every x seconds\n",
    "\n",
    "def source(env, number, interval, restaurant):\n",
    "    for i in range(number):\n",
    "        c = customer(env, 'Customer%02d' % i, restaurant)\n",
    "        env.process(c)\n",
    "        yield env.timeout(interval)\n",
    "\n",
    "\n",
    "def customer(env, name, restaurant):\n",
    "    enter = env.now\n",
    "    wait_time = 0\n",
    "    print(\"Here's customer %s waiting at %d\" % (name, env.now) )\n",
    "    yield env.timeout(wait_time)\n",
    "\n",
    "    with restaurant.request() as req:\n",
    "        yield req\n",
    "        \n",
    "        print('Customer %s gets seated at %d' % (name, env.now))\n",
    "        eat_time = 60\n",
    "        yield env.timeout(eat_time)\n",
    "        \n",
    "        print (\"and now customer %s will pay and leave at %d\" % (name, env.now))\n",
    "        # this is when the restaurant gets paid \n",
    "    \n",
    "    \n",
    "env=simpy.Environment()\n",
    "restaurant = simpy.Resource(env, capacity = 4)\n",
    "env.process(source(env, NEW_CUSTOMERS, INTERVAL_CUSTOMERS, restaurant))\n",
    "env.run(until=350)"
   ]
  },
  {
   "cell_type": "markdown",
   "id": "3d1bd6bb-4f3e-4f2c-b32e-33d8c8403ea1",
   "metadata": {},
   "source": [
    "Coolio.  TIL that capacity is respected even if I don't specifically invoke any behavior about it. (Today, on more careful inspection, I don't think that's true.  The restaurant is getting ignored.)"
   ]
  },
  {
   "cell_type": "markdown",
   "id": "47259bda-1485-47a8-908f-381117c16e40",
   "metadata": {},
   "source": [
    "Now I want to make it possible for the restaurant to collect revenue.  I think the right model here is a class, Restaurant, which has a resource (those scarce tables)and a revenue associated with it.  "
   ]
  },
  {
   "cell_type": "code",
   "execution_count": 31,
   "id": "836e32a7-6933-4c2f-8829-c2e1c456e8bc",
   "metadata": {},
   "outputs": [],
   "source": [
    "class Restaurant(simpy.Resource):\n",
    "    \n",
    "    \n",
    "    # temporary simplification, party size = table size = 1\n",
    "    \n",
    "    def __init__(self, env, numseats, revenue=0):\n",
    "        simpy.Resource.__init__(self, env, capacity=numseats)\n",
    "        self.revenue = revenue\n",
    "        \n",
    "    def pay(self, check): \n",
    "        self.revenue = check + self.revenue\n",
    "        print ('at %d revenue is %d' % (env.now, self.revenue)) \n",
    "        \n",
    "\n",
    "\n",
    "    \n",
    "        \n",
    "    "
   ]
  },
  {
   "cell_type": "code",
   "execution_count": 42,
   "id": "a29e9791-2bc1-4c12-861e-b4fbdb5fd65a",
   "metadata": {
    "tags": []
   },
   "outputs": [],
   "source": [
    "import random \n",
    "\n",
    "# RANDOM_SEED = 42 leaving out randomness for now\n",
    "NEW_CUSTOMERS = 10  # Total number of customers\n",
    "INTERVAL_CUSTOMERS = 10.0  # Generate new customers roughly every x seconds\n",
    "MIN_PATIENCE = 1\n",
    "MAX_PATIENCE = 20 \n",
    "\n",
    "def source(env, number, interval, restaurant):\n",
    "    for i in range(number):\n",
    "        # generate a patience threshold for this customer \n",
    "        patience = random.uniform(MIN_PATIENCE, MAX_PATIENCE) \n",
    "        c = customer(env, 'Customer%02d' % i, restaurant, patience)\n",
    "        env.process(c)\n",
    "        yield env.timeout(interval)\n",
    "\n",
    "\n",
    "def customer(env, name, restaurant, patience = MIN_PATIENCE ):\n",
    "    enter = env.now\n",
    "    wait_time = 0\n",
    "    print(\"Here's customer %s waiting at %d\" % (name, env.now) )\n",
    "    yield env.timeout(wait_time)\n",
    "    \n",
    "    # An impatient customer will only wait for 1 tick  - right now all customers\n",
    "    # are impatient. \n",
    "\n",
    "        \n",
    "    with restaurant.request() as req:\n",
    "        \n",
    "        queue = yield req | env.timeout(patience)\n",
    "        \n",
    "        if req in queue: \n",
    "            print('Customer %s gets seated at %d' % (name, env.now))\n",
    "            eat_time = 60\n",
    "            yield env.timeout(eat_time)\n",
    "        \n",
    "            print (\"and now customer %s will pay and leave at %d\" % (name, env.now))\n",
    "            # this is when the restaurant gets paid - every check is $10 for now\n",
    "            restaurant.pay(10) \n",
    "        else:\n",
    "            print (\"Customer %s abandoned at time %d\" % (name, env.now))\n",
    "                   "
   ]
  },
  {
   "cell_type": "code",
   "execution_count": 43,
   "id": "a05a5a3c-4db6-4805-b4fd-cea0d6c794a9",
   "metadata": {
    "tags": []
   },
   "outputs": [
    {
     "name": "stdout",
     "output_type": "stream",
     "text": [
      "Here's customer Customer00 waiting at 0\n",
      "Customer Customer00 gets seated at 0\n",
      "Here's customer Customer01 waiting at 10\n",
      "Customer Customer01 gets seated at 10\n",
      "Here's customer Customer02 waiting at 20\n",
      "Customer Customer02 gets seated at 20\n",
      "Here's customer Customer03 waiting at 30\n",
      "Customer Customer03 gets seated at 30\n",
      "Here's customer Customer04 waiting at 40\n",
      "Here's customer Customer05 waiting at 50\n",
      "Customer Customer04 abandoned at time 53\n",
      "and now customer Customer00 will pay and leave at 60\n",
      "at 60 revenue is 10\n",
      "Here's customer Customer06 waiting at 60\n",
      "Customer Customer05 gets seated at 60\n",
      "and now customer Customer01 will pay and leave at 70\n",
      "at 70 revenue is 20\n",
      "Here's customer Customer07 waiting at 70\n",
      "Customer Customer06 gets seated at 70\n",
      "and now customer Customer02 will pay and leave at 80\n",
      "at 80 revenue is 30\n",
      "Here's customer Customer08 waiting at 80\n",
      "Customer Customer07 gets seated at 80\n",
      "Customer Customer08 abandoned at time 81\n",
      "and now customer Customer03 will pay and leave at 90\n",
      "at 90 revenue is 40\n",
      "Here's customer Customer09 waiting at 90\n",
      "Customer Customer09 gets seated at 90\n",
      "and now customer Customer05 will pay and leave at 120\n",
      "at 120 revenue is 50\n",
      "and now customer Customer06 will pay and leave at 130\n",
      "at 130 revenue is 60\n",
      "and now customer Customer07 will pay and leave at 140\n",
      "at 140 revenue is 70\n",
      "and now customer Customer09 will pay and leave at 150\n",
      "at 150 revenue is 80\n"
     ]
    }
   ],
   "source": [
    "env=simpy.Environment()\n",
    "myrestaurant = Restaurant(env, numseats = 4)\n",
    "env.process(source(env, NEW_CUSTOMERS, INTERVAL_CUSTOMERS, myrestaurant))\n",
    "env.run(until=200)"
   ]
  },
  {
   "cell_type": "code",
   "execution_count": null,
   "id": "68d2c5b5-cfde-47cf-b345-32549cb7a824",
   "metadata": {},
   "outputs": [],
   "source": []
  }
 ],
 "metadata": {
  "kernelspec": {
   "display_name": "Python 3 (ipykernel)",
   "language": "python",
   "name": "python3"
  },
  "language_info": {
   "codemirror_mode": {
    "name": "ipython",
    "version": 3
   },
   "file_extension": ".py",
   "mimetype": "text/x-python",
   "name": "python",
   "nbconvert_exporter": "python",
   "pygments_lexer": "ipython3",
   "version": "3.10.8"
  }
 },
 "nbformat": 4,
 "nbformat_minor": 5
}
