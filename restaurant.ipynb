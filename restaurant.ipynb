{
 "cells": [
  {
   "cell_type": "code",
   "execution_count": 7,
   "id": "39c2385d-593a-4677-b59a-5d29fa1672ad",
   "metadata": {
    "tags": []
   },
   "outputs": [
    {
     "name": "stdout",
     "output_type": "stream",
     "text": [
      "Here's customer 1 waiting\n",
      "Customer 1 gets seated at 5\n",
      "and now customer 1 will go away at 35\n",
      "Here's customer 1 waiting\n",
      "Customer 1 gets seated at 40\n",
      "and now customer 1 will go away at 70\n",
      "Here's customer 1 waiting\n",
      "Customer 1 gets seated at 75\n"
     ]
    }
   ],
   "source": [
    "import simpy\n",
    "env = simpy.Environment()\n",
    "#a restaurant is a resource with some capacity  \n",
    "#for now, it's a rather small restaurant\n",
    "restaurant = simpy.Resource(env, capacity = 4)\n",
    "\n",
    "# A customer shows up at a restaurant and waits to be seated \n",
    "def customer(env, name):\n",
    "    while True: \n",
    "        enter = env.now\n",
    "        wait_time = 5\n",
    "        print(\"Here's customer %d waiting\" % name) \n",
    "        yield env.timeout(wait_time)\n",
    "\n",
    "        print('Customer %d gets seated at %d' % (name, env.now))\n",
    "        eat_time = 30\n",
    "        yield env.timeout(eat_time)\n",
    "        print (\"and now customer %d will go away at %d\" % (name, env.now))\n",
    "        \n",
    "# but now we need to instantiate some customers \n",
    "env.process(customer(env, 1))\n",
    "env.run(until=100)\n"
   ]
  },
  {
   "cell_type": "code",
   "execution_count": null,
   "id": "86d47873-b37a-4c21-b45a-7329782b7354",
   "metadata": {},
   "outputs": [],
   "source": []
  },
  {
   "cell_type": "code",
   "execution_count": null,
   "id": "7268dfa2-1d29-4084-b97e-defd0c4af8fd",
   "metadata": {},
   "outputs": [],
   "source": []
  }
 ],
 "metadata": {
  "kernelspec": {
   "display_name": "Python 3 (ipykernel)",
   "language": "python",
   "name": "python3"
  },
  "language_info": {
   "codemirror_mode": {
    "name": "ipython",
    "version": 3
   },
   "file_extension": ".py",
   "mimetype": "text/x-python",
   "name": "python",
   "nbconvert_exporter": "python",
   "pygments_lexer": "ipython3",
   "version": "3.10.8"
  }
 },
 "nbformat": 4,
 "nbformat_minor": 5
}
