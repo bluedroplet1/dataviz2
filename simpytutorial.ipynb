{
 "cells": [
  {
   "cell_type": "markdown",
   "id": "4d8e4951-9cb3-4039-9ae6-af4c850af524",
   "metadata": {},
   "source": [
    "This is going to be the workspace for the SimPy tutorial.  This is the first example. "
   ]
  },
  {
   "cell_type": "code",
   "execution_count": 1,
   "id": "fef3b72d-1794-4ec6-8fa1-4be63d89fa91",
   "metadata": {
    "tags": []
   },
   "outputs": [],
   "source": [
    "import simpy"
   ]
  },
  {
   "cell_type": "code",
   "execution_count": 42,
   "id": "6f0760a6-8b05-44d0-870e-fba85e6ecfb6",
   "metadata": {
    "tags": []
   },
   "outputs": [],
   "source": [
    "env = simpy.Environment()\n",
    "car = Car(env)"
   ]
  },
  {
   "cell_type": "code",
   "execution_count": 43,
   "id": "ab2f77b2-a4a4-4286-a402-d2f45b9f3796",
   "metadata": {
    "tags": []
   },
   "outputs": [],
   "source": [
    "class Car(object):\n",
    "    def __init__(self, env):\n",
    "        self.env = env\n",
    "        #start the run process every time \n",
    "        self.action = env.process(self.run())\n",
    "        \n",
    "    def run(self):\n",
    "        while True:\n",
    "            print('Start parking and charging at %d' % self.env.now)\n",
    "            charge_duration = 5\n",
    "            try:\n",
    "                yield self.env.process(self.charge(charge_duration))\n",
    "            except simpy.Interrupt:\n",
    "                print('was interrupted. Hope the battery is full enough!')\n",
    "\n",
    "            print('Start driving at %d' % self.env.now)\n",
    "            trip_duration = 2\n",
    "            yield self.env.timeout(trip_duration)\n",
    "        \n",
    "    def charge(self, duration):\n",
    "        yield self.env.timeout(duration)\n",
    "        \n"
   ]
  },
  {
   "cell_type": "markdown",
   "id": "d60e563b-eb1c-4c3a-b8fc-d00d15cf24fc",
   "metadata": {},
   "source": [
    "Run the first example tbh, I edited the code above so if this is rerun, we'll get the seocond example. "
   ]
  },
  {
   "cell_type": "code",
   "execution_count": 44,
   "id": "b3c06365-e64f-4a4c-9976-61b47f5203f5",
   "metadata": {
    "tags": []
   },
   "outputs": [
    {
     "name": "stdout",
     "output_type": "stream",
     "text": [
      "Start parking and charging at 0\n",
      "Start driving at 5\n",
      "Start parking and charging at 7\n",
      "Start driving at 12\n",
      "Start parking and charging at 14\n"
     ]
    }
   ],
   "source": [
    "env.run(until=15)"
   ]
  },
  {
   "cell_type": "markdown",
   "id": "5ef517c4-6689-4eaa-ba6d-7224e74f674f",
   "metadata": {},
   "source": [
    "The second example demonstrates interrupting an action.  Now we have a driver interrupting the car's actions. "
   ]
  },
  {
   "cell_type": "code",
   "execution_count": 45,
   "id": "2cdf3863-cbb0-443a-bb7f-cb449a7b1496",
   "metadata": {
    "tags": []
   },
   "outputs": [],
   "source": [
    "def driver(env, car):\n",
    "    yield env.timeout(3)\n",
    "    car.action.interrupt()"
   ]
  },
  {
   "cell_type": "code",
   "execution_count": 50,
   "id": "38381b06-56c3-4c44-b2a7-d118ed6a8bbb",
   "metadata": {
    "tags": []
   },
   "outputs": [
    {
     "data": {
      "text/plain": [
       "<Process(driver) object at 0x1057b6680>"
      ]
     },
     "execution_count": 50,
     "metadata": {},
     "output_type": "execute_result"
    }
   ],
   "source": [
    "env = simpy.Environment()\n",
    "car = Car(env) \n",
    "env.process(driver(env, car))"
   ]
  },
  {
   "cell_type": "code",
   "execution_count": 51,
   "id": "4cc82f1e-5b1f-46b4-b91c-4158268baf45",
   "metadata": {
    "tags": []
   },
   "outputs": [
    {
     "name": "stdout",
     "output_type": "stream",
     "text": [
      "Start parking and charging at 0\n",
      "was interrupted. Hope the battery is full enough!\n",
      "Start driving at 3\n",
      "Start parking and charging at 5\n",
      "Start driving at 10\n",
      "Start parking and charging at 12\n"
     ]
    }
   ],
   "source": [
    "env.run(until=15)"
   ]
  },
  {
   "cell_type": "markdown",
   "id": "0d9ed766-4fe0-4442-84b3-a7420c8ee974",
   "metadata": {},
   "source": [
    "Next we'll modify the scenario again to include a battery charging station which has only two spots - a limited resource.  "
   ]
  },
  {
   "cell_type": "code",
   "execution_count": 64,
   "id": "820841a2-23f1-43bc-9da4-92ff8ec0622c",
   "metadata": {
    "tags": []
   },
   "outputs": [],
   "source": [
    "def car(env, name, bcs, driving_time, charge_duration):\n",
    "    # simulate driving to the BCS\n",
    "    yield env.timeout(driving_time)\n",
    "    \n",
    "    # request oone of the charging spots\n",
    "    print('%s arriving at %d' % (name, env.now))\n",
    "    with bcs.request() as req:\n",
    "        # forgetting these ()'s caused AttributeError: __enter__\n",
    "        yield req\n",
    "        \n",
    "        #charge the battery\n",
    "        print ('%s starting to charge at %s' % (name, env.now))\n",
    "        yield env.timeout(charge_duration)\n",
    "        print('%s leaving the bcs at %s' % (name, env.now))"
   ]
  },
  {
   "cell_type": "code",
   "execution_count": 65,
   "id": "3bd4632a-f391-457d-acb9-024a462cc610",
   "metadata": {
    "tags": []
   },
   "outputs": [],
   "source": [
    "#reinit all this\n",
    "import simpy\n",
    "env = simpy.Environment()\n",
    "bcs = simpy.Resource(env, capacity =2) "
   ]
  },
  {
   "cell_type": "code",
   "execution_count": 66,
   "id": "8e670f34-9e0b-4063-9641-d8e5989da39e",
   "metadata": {
    "tags": []
   },
   "outputs": [],
   "source": [
    "for i in range(4): \n",
    "    env.process(car(env,'Car %d' % i, bcs, i*2, 5))"
   ]
  },
  {
   "cell_type": "code",
   "execution_count": 67,
   "id": "18844145-d356-4832-b12e-35a85a493da2",
   "metadata": {
    "tags": []
   },
   "outputs": [
    {
     "name": "stdout",
     "output_type": "stream",
     "text": [
      "Car 0 arriving at 0\n",
      "Car 0 starting to charge at 0\n",
      "Car 1 arriving at 2\n",
      "Car 1 starting to charge at 2\n",
      "Car 2 arriving at 4\n",
      "Car 0 leaving the bcs at 5\n",
      "Car 2 starting to charge at 5\n",
      "Car 3 arriving at 6\n",
      "Car 1 leaving the bcs at 7\n",
      "Car 3 starting to charge at 7\n",
      "Car 2 leaving the bcs at 10\n",
      "Car 3 leaving the bcs at 12\n"
     ]
    }
   ],
   "source": [
    "env.run()"
   ]
  },
  {
   "cell_type": "code",
   "execution_count": null,
   "id": "e9907a41-8084-4270-80c7-e80949233bf7",
   "metadata": {},
   "outputs": [],
   "source": []
  }
 ],
 "metadata": {
  "kernelspec": {
   "display_name": "Python 3 (ipykernel)",
   "language": "python",
   "name": "python3"
  },
  "language_info": {
   "codemirror_mode": {
    "name": "ipython",
    "version": 3
   },
   "file_extension": ".py",
   "mimetype": "text/x-python",
   "name": "python",
   "nbconvert_exporter": "python",
   "pygments_lexer": "ipython3",
   "version": "3.10.8"
  }
 },
 "nbformat": 4,
 "nbformat_minor": 5
}
