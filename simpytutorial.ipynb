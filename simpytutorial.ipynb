{
 "cells": [
  {
   "cell_type": "markdown",
   "id": "4d8e4951-9cb3-4039-9ae6-af4c850af524",
   "metadata": {},
   "source": [
    "This is going to be the workspace for the SimPy tutorial. "
   ]
  },
  {
   "cell_type": "code",
   "execution_count": 1,
   "id": "fef3b72d-1794-4ec6-8fa1-4be63d89fa91",
   "metadata": {
    "tags": []
   },
   "outputs": [],
   "source": [
    "import simpy"
   ]
  },
  {
   "cell_type": "code",
   "execution_count": 42,
   "id": "6f0760a6-8b05-44d0-870e-fba85e6ecfb6",
   "metadata": {
    "tags": []
   },
   "outputs": [],
   "source": [
    "env = simpy.Environment()\n",
    "car = Car(env)"
   ]
  },
  {
   "cell_type": "code",
   "execution_count": 43,
   "id": "ab2f77b2-a4a4-4286-a402-d2f45b9f3796",
   "metadata": {
    "tags": []
   },
   "outputs": [],
   "source": [
    "class Car(object):\n",
    "    def __init__(self, env):\n",
    "        self.env = env\n",
    "        #start the run process every time \n",
    "        self.action = env.process(self.run())\n",
    "        \n",
    "    def run(self):\n",
    "        while True:\n",
    "            print('Start parking and charging at %d' % self.env.now)\n",
    "            charge_duration = 5\n",
    "            try:\n",
    "                yield self.env.process(self.charge(charge_duration))\n",
    "            except simpy.Interrupt:\n",
    "                print('was interrupted. Hope the battery is full enough!')\n",
    "\n",
    "            print('Start driving at %d' % self.env.now)\n",
    "            trip_duration = 2\n",
    "            yield self.env.timeout(trip_duration)\n",
    "        \n",
    "    def charge(self, duration):\n",
    "        yield self.env.timeout(duration)\n",
    "        \n"
   ]
  },
  {
   "cell_type": "code",
   "execution_count": 44,
   "id": "b3c06365-e64f-4a4c-9976-61b47f5203f5",
   "metadata": {
    "tags": []
   },
   "outputs": [
    {
     "name": "stdout",
     "output_type": "stream",
     "text": [
      "Start parking and charging at 0\n",
      "Start driving at 5\n",
      "Start parking and charging at 7\n",
      "Start driving at 12\n",
      "Start parking and charging at 14\n"
     ]
    }
   ],
   "source": [
    "env.run(until=15)"
   ]
  },
  {
   "cell_type": "code",
   "execution_count": 45,
   "id": "2cdf3863-cbb0-443a-bb7f-cb449a7b1496",
   "metadata": {
    "tags": []
   },
   "outputs": [],
   "source": [
    "def driver(env, car):\n",
    "    yield env.timeout(3)\n",
    "    car.action.interrupt()"
   ]
  },
  {
   "cell_type": "code",
   "execution_count": 50,
   "id": "38381b06-56c3-4c44-b2a7-d118ed6a8bbb",
   "metadata": {
    "tags": []
   },
   "outputs": [
    {
     "data": {
      "text/plain": [
       "<Process(driver) object at 0x1057b6680>"
      ]
     },
     "execution_count": 50,
     "metadata": {},
     "output_type": "execute_result"
    }
   ],
   "source": [
    "env = simpy.Environment()\n",
    "car = Car(env) \n",
    "env.process(driver(env, car))"
   ]
  },
  {
   "cell_type": "code",
   "execution_count": 51,
   "id": "4cc82f1e-5b1f-46b4-b91c-4158268baf45",
   "metadata": {
    "tags": []
   },
   "outputs": [
    {
     "name": "stdout",
     "output_type": "stream",
     "text": [
      "Start parking and charging at 0\n",
      "was interrupted. Hope the battery is full enough!\n",
      "Start driving at 3\n",
      "Start parking and charging at 5\n",
      "Start driving at 10\n",
      "Start parking and charging at 12\n"
     ]
    }
   ],
   "source": [
    "env.run(until=15)"
   ]
  },
  {
   "cell_type": "code",
   "execution_count": null,
   "id": "d4648cb4-f5da-414f-a23a-53a971fd1c2e",
   "metadata": {},
   "outputs": [],
   "source": []
  }
 ],
 "metadata": {
  "kernelspec": {
   "display_name": "Python 3 (ipykernel)",
   "language": "python",
   "name": "python3"
  },
  "language_info": {
   "codemirror_mode": {
    "name": "ipython",
    "version": 3
   },
   "file_extension": ".py",
   "mimetype": "text/x-python",
   "name": "python",
   "nbconvert_exporter": "python",
   "pygments_lexer": "ipython3",
   "version": "3.10.8"
  }
 },
 "nbformat": 4,
 "nbformat_minor": 5
}
